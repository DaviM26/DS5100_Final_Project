{
 "cells": [
  {
   "cell_type": "markdown",
   "id": "45762487-d33f-486d-8e38-2cdea04e3528",
   "metadata": {},
   "source": [
    "# Metadata\n",
    "\n",
    "* Title: **Final Project Report**\n",
    "* Class: DS 5100\n",
    "* Date: 7/12/2022\n",
    "* Student Name: Davi Meran\n",
    "* Student Net ID: dm5tv\n",
    "* This URL: https://github.com/DaviM26/MonteCarloSimulator/tree/main/SimulationExampleNotebook\n",
    "* GitHub Repo URL: https://github.com/DaviM26/MonteCarloSimulator"
   ]
  },
  {
   "cell_type": "markdown",
   "id": "d32cb273-9a40-4909-a7ce-51f6e4958d3c",
   "metadata": {},
   "source": [
    "# The Monte Carlo Module"
   ]
  },
  {
   "cell_type": "code",
   "execution_count": 1,
   "id": "a0743efc-a785-4b5c-a9e6-b65d4507a67f",
   "metadata": {},
   "outputs": [],
   "source": [
    "import pandas as pd\n",
    "import numpy as np\n",
    "import random\n",
    "import matplotlib.pylab as plt\n",
    "\n",
    "class Die: \n",
    "    '''A die has N sides, or “faces”, and W weights, and can be rolled to select a face. '''\n",
    "\n",
    "    def __init__(self, faces):\n",
    "        '''This is a die setting method. Input the number of faces and the program will create \n",
    "        a dataframe with those faces.\n",
    "        The program assumes all starting weights to be = 1 '''\n",
    "\n",
    "        self.faces = faces\n",
    "        self.weights = [1 for x in self.faces]\n",
    "        self.df = pd.DataFrame({\"faces\": self.faces, \"weights\": self.weights})\n",
    "\n",
    "    def change_weight(self, face, weight):\n",
    "        '''This method is used to change the weight of a specific corresponding face. \n",
    "        Do this by inputting the desired face and new weight.\n",
    "        Face must be valid element of faces and weight must be convertable into a float and >= 0 '''\n",
    "\n",
    "        if (face in self.faces):\n",
    "            weight = float(weight)\n",
    "            if (type(weight) == float and weight >= 0):\n",
    "                a = self.df[self.df[\"faces\"] == face].index.tolist()\n",
    "                row_index = a[0]\n",
    "                self.df.iloc[row_index, 1] = weight\n",
    "            else:\n",
    "                print(\"weight can't be converted into a float or not >= 0\")\n",
    "        else:\n",
    "            print(\"the face you entered is not valid. Please try again\")\n",
    "\n",
    "    def rolls(self, n=1):\n",
    "        '''This method takes in n and returns n outcomes given n die \n",
    "        rolls with previously given faces and weights'''\n",
    "        \n",
    "        n = int(n)\n",
    "        if (n>0):\n",
    "            faces_array = np.array(self.df.faces)\n",
    "            weights_array = np.array(self.df.weights)\n",
    "        # generate outcomes\n",
    "            return random.choices(faces_array, weights = weights_array, k = n)\n",
    "        else:\n",
    "            print(\"n, number of rolls, must be an integer > 0. Please try again\")\n",
    "\n",
    "    def print_df(self):\n",
    "        '''prints the current data frame for the user to see'''\n",
    "        return self.df\n",
    "        \n",
    "\n",
    "class Game:\n",
    "    '''A game consists of rolling of one or more \n",
    "    dice of the same kind one or more times. '''\n",
    "\n",
    "    def __init__(self, list_die):\n",
    "        '''initializer takes in a list of similar die objects. \n",
    "        Must input a list of die.\n",
    "        Will not work if input a non list die'''\n",
    "        self.list_die = list_die\n",
    "        # # check if all die faces are the same\n",
    "        # all_die_faces_same = all(element == die.faces[0] for element in die.faces)\n",
    "        # if (all_die_faces_same):\n",
    "        #     self.die = die\n",
    "        # else:\n",
    "        #     print(\"error: die faces are not all the same\")\n",
    "\n",
    "    def return_faces(self):\n",
    "        '''returns faces'''\n",
    "        return self.list_die[0].print_df().faces\n",
    "    \n",
    "    def play(self, num_rolls):\n",
    "        '''play takes in n die rolls and then rolls them\n",
    "        Takes a parameter to specify how many times the dice should be rolled.\n",
    "        Saves the result of the play to a private dataframe of shape N rolls by M dice.\n",
    "        The private dataframe should have the roll number is a named index.'''\n",
    "\n",
    "        self.roll_outcomes_list = []\n",
    "\n",
    "        for i in range(len(self.list_die)):\n",
    "            die_instance = self.list_die[i]\n",
    "            die_df = die_instance.print_df()\n",
    "\n",
    "            roll_outcomes = die_instance.rolls(num_rolls)\n",
    "            self.roll_outcomes_list.append(roll_outcomes)\n",
    "\n",
    "        self.df_roll_outcomes = pd.DataFrame(self.roll_outcomes_list)\n",
    "        # return self.df_roll_outcomes\n",
    "\n",
    "        ### the outcome data frame will have col names/index as roll numbers and row names/index as instance numbers\n",
    "\n",
    "\n",
    "    def show(self, narrow_or_wide = \"wide\"):\n",
    "        '''Takes a parameter to return the dataframe in narrow or wide form, default = wide.\n",
    "        \n",
    "        The narrow form of the dataframe will have a two-column index \n",
    "        with the roll number and the die number, \n",
    "        and a column for the face rolled.\n",
    "\n",
    "        The wide form of the dataframe will a single column index \n",
    "        with the roll number, and each die number as a column.\n",
    "        '''\n",
    "\n",
    "        if (narrow_or_wide == \"wide\"):\n",
    "            ## make data wide (data already in wide form from .play())\n",
    "            self.df_to_show = self.df_roll_outcomes\n",
    "            self.key_to_show = \"Columns = roll number; Rows = die number\"\n",
    "\n",
    "        if (narrow_or_wide == \"narrow\"):\n",
    "            ##make data narrow\n",
    "            self.df_to_show = self.df_roll_outcomes.T\n",
    "            self.key_to_show = \"Columns = die number; Rows = roll number\"\n",
    "        \n",
    "        # print(self.key_to_show)\n",
    "        return self.df_to_show\n",
    "        \n",
    "\n",
    "class analyzer:\n",
    "    '''An analyzer takes the results of a single game and \n",
    "    computes various descriptive statistical properties about it'''\n",
    "    \n",
    "    def __init__(self, game_object):\n",
    "        '''Takes a game object as its input parameter. '''\n",
    "        self.game_object = game_object\n",
    "        self.outcome_df = self.game_object.show(\"wide\")\n",
    "        self.narrow_outcome_df = self.game_object.show(\"narrow\")\n",
    "\n",
    "        self.faces = game_object.return_faces()\n",
    "        self.type_of_game = type(self.faces)\n",
    "\n",
    "        self.num_faces = len(game_object.return_faces())\n",
    "\n",
    "    \n",
    "    def jackpot(self):\n",
    "        '''compute and return how many times the game \n",
    "        resulted in all faces being identical\n",
    "        stores result in dataframe'''\n",
    "        \n",
    "        answer = 0\n",
    "        for i in range(len(self.game_object.show(\"narrow\"))):\n",
    "            if (self.outcome_df[i] == self.outcome_df[i][0]).all():\n",
    "                answer += 1\n",
    "        return answer\n",
    "\n",
    "    def combo(self):\n",
    "        '''compute the distinct combinations of faces rolled, \n",
    "        along with their counts'''\n",
    "        df = self.outcome_df\n",
    "\n",
    "        combinations_list = []\n",
    "        for i in range(len(df.T)):\n",
    "            TEMP = [x for x in df[i]]\n",
    "            combinations_list.append(tuple(TEMP))\n",
    "\n",
    "        combinations_df = pd.DataFrame({\"Combination_of_Faces\": combinations_list})\n",
    "        \n",
    "        Combo_DF = combinations_df.apply(lambda x: pd.Series(sorted(x)), 1)\\\n",
    "            .value_counts().to_frame('count')\n",
    "\n",
    "        return Combo_DF     \n",
    "\n",
    "    def face_counts_per_roll(self):\n",
    "        ''' compute how many times a given face is rolled in each event'''\n",
    "        df = self.outcome_df\n",
    "\n",
    "        def get_instances(data, instance):\n",
    "            df_list = data.values.tolist()\n",
    "            return sum([index.count(instance) for index in df_list])\n",
    "        \n",
    "\n",
    "        instance_list = [get_instances(df, x) for x in self.faces]\n",
    "        \n",
    "        newdf = pd.DataFrame({\n",
    "            \"face\": self.faces,\n",
    "            \"count\": instance_list\n",
    "        })\n",
    "\n",
    "        return newdf\n",
    " "
   ]
  },
  {
   "cell_type": "markdown",
   "id": "4c81c4f0-b6ff-46ab-ba2c-9de7f0179715",
   "metadata": {},
   "source": [
    "# Test Module"
   ]
  },
  {
   "cell_type": "code",
   "execution_count": 2,
   "id": "14b878d8-258b-4cf2-ad88-b8ee90d43977",
   "metadata": {},
   "outputs": [],
   "source": [
    "import unittest\n",
    "\n",
    "\n",
    "class die_test(unittest.TestCase):\n",
    "    '''Unit Test to test the die class'''\n",
    "    def test_change_weight(self):\n",
    "        '''Test if the change_weight function works'''\n",
    "        die_object = Die([\"A\", \"B\", \"C\"])\n",
    "        die_object.change_weight(\"A\", 2)\n",
    "        df = die_object.print_df()[\"weights\"]\n",
    "        df = list(df)\n",
    "        testValue = [2,1,1]\n",
    "\n",
    "        message = \"Weight Not Changed\"\n",
    "\n",
    "        self.assertEqual(testValue, df, message)\n",
    "\n",
    "\n",
    "    def test_rolls(self):\n",
    "        '''test if the rolls function works'''\n",
    "        die_object = Die([\"A\", \"B\", \"C\"])\n",
    "        roll_object = die_object.rolls(10)\n",
    "        testValue = len(roll_object)\n",
    "\n",
    "        message = \"Rolls doesn't work\"\n",
    "\n",
    "        self.assertEqual(testValue, 10, message)\n",
    "\n",
    "    def test_print_df(self):\n",
    "        '''test if the print_df function works'''\n",
    "        die_object = Die([\"A\", \"B\", \"C\"])\n",
    "        df = die_object.print_df()\n",
    "        if (type(df) == pd.DataFrame):\n",
    "            testValue = True\n",
    "        else:\n",
    "            testValue == False\n",
    "\n",
    "        message = \"print_df doesn't work\"\n",
    "        self.assertTrue(testValue, message)\n",
    "    \n",
    "\n",
    "\n",
    "class game_test(unittest.TestCase):\n",
    "    '''Unit test to test game class'''\n",
    "    def test_return_faces(self):\n",
    "        '''tests if return_faces returns the correct faces'''\n",
    "        die_object = Die([\"a\", \"b\"])\n",
    "        game_object = Game([die_object])\n",
    "        testValue = (list(game_object.return_faces()) == [\"a\", \"b\"])\n",
    "        \n",
    "        message = \"return_faces does not return the correct faces\"\n",
    "        self.assertTrue(testValue, message)\n",
    "\n",
    "    def test_play(self):\n",
    "        '''test if play returns the correct outcomes'''\n",
    "        die_object = Die([\"a\", \"b\"])\n",
    "        game_object = Game([die_object])\n",
    "        game_object.play(5)\n",
    "        testValue = (game_object.show().shape == (1,5))\n",
    "\n",
    "        message = \"play does not return the correct values\"\n",
    "        self.assertTrue(testValue, message)\n",
    "\n",
    "    def test_show(self):\n",
    "        '''test if show returns the correct dataframe'''\n",
    "        die_object = Die([\"a\", \"b\"])\n",
    "        game_object = Game([die_object])\n",
    "        game_object.play(5)\n",
    "        test1 = (game_object.show().shape == (1,5))\n",
    "        test2 = (type(game_object.show()) == pd.DataFrame)\n",
    "        testValue = test1 + test2\n",
    "\n",
    "        message = \"show does not return the correct data frame\"\n",
    "        self.assertEqual(testValue, 2, message)\n",
    "\n",
    "\n",
    "\n",
    "class analyzer_test(unittest.TestCase):\n",
    "    '''this class tests the analyzer class'''\n",
    "    def test_jackpot(self):\n",
    "        '''this tests the jackpot method to see if it returns the correct values'''\n",
    "        die_object = Die([\"a\",\"a\"])\n",
    "        game_object = Game([die_object, die_object])\n",
    "        game_object.play(3)\n",
    "        x = analyzer(game_object).jackpot()\n",
    "        testValue = (x == 3)\n",
    "\n",
    "        message = \"the jackpot method failed to return the correct result\"\n",
    "        self.assertTrue(testValue, message)\n",
    "        \n",
    "    def test_combo(self):\n",
    "        '''this tests the combo method to make sure it returns the correct output'''\n",
    "        die_object = Die([\"a\",\"a\"])\n",
    "        game_object = Game([die_object, die_object])\n",
    "        game_object.play(2)\n",
    "        combo = analyzer(game_object).combo()\n",
    "        # x = (combo[0] == 2)\n",
    "        y = (type(analyzer(game_object).combo()) == pd.DataFrame)\n",
    "        # z = x + y\n",
    "\n",
    "        message = \"the combo method failed to return the correct values\"\n",
    "        self.assertEqual(y, 1, message)\n",
    "    \n",
    "\n",
    "    def test_face_counts_per_roll(self):\n",
    "        '''This tests the face counts per roll method to make sure it returns the correct output'''\n",
    "        die_object = Die([\"a\",\"a\"])\n",
    "        game_object = Game([die_object, die_object])\n",
    "        game_object.play(2)\n",
    "        x = analyzer(game_object).face_counts_per_roll()\n",
    "        testValue = (type(x) == pd.DataFrame)\n",
    "\n",
    "        message = \"the face count per roll method failed to return the correct output\"\n",
    "        self.assertTrue(testValue, message)\n",
    "\n",
    "\n"
   ]
  },
  {
   "cell_type": "markdown",
   "id": "3c2b90b6-ac8b-43fa-a069-cb5b0b22aee0",
   "metadata": {},
   "source": [
    "# Test Results"
   ]
  },
  {
   "cell_type": "code",
   "execution_count": 3,
   "id": "c80201af-9579-4a2c-bbc7-805e420d156c",
   "metadata": {},
   "outputs": [],
   "source": [
    "# test_combo (__main__.analyzer_test)\n",
    "# this tests the combo method to make sure it returns the correct output ... ok\n",
    "# test_face_counts_per_roll (__main__.analyzer_test)\n",
    "# This tests the face counts per roll method to make sure it returns the correct output ... ok\n",
    "# test_jackpot (__main__.analyzer_test)\n",
    "# this tests the jackpot method to see if it returns the correct values ... ok\n",
    "# test_change_weight (__main__.die_test)\n",
    "# Test if the change_weight function works ... ok\n",
    "# test_print_df (__main__.die_test)\n",
    "# test if the print_df function works ... ok\n",
    "# test_rolls (__main__.die_test)\n",
    "# test if the rolls function works ... ok\n",
    "# test_play (__main__.game_test)\n",
    "# test if play returns the correct outcomes ... ok\n",
    "# test_return_faces (__main__.game_test)\n",
    "# tests if return_faces returns the correct faces ... ok\n",
    "# test_show (__main__.game_test)\n",
    "# test if show returns the correct dataframe ... ok"
   ]
  },
  {
   "cell_type": "markdown",
   "id": "7c44695d-d1b3-4edf-9f94-e64d7446f199",
   "metadata": {},
   "source": [
    "# Scenarios\n",
    "\n",
    "Code blocks with your scenarios and their outputs. \n",
    "\n",
    "These should have appropriate import statements even though the code is now in the same notebook as the classes it calls. "
   ]
  },
  {
   "cell_type": "markdown",
   "id": "90b7abd8-f4a7-4d71-bc9a-746640516b98",
   "metadata": {},
   "source": [
    "## Scenario 1"
   ]
  },
  {
   "cell_type": "markdown",
   "id": "f51e6cee",
   "metadata": {},
   "source": [
    "Create a fair coin (with faces H and T) and one unfair coin, in which one of the faces has a weight of 5 and the others 1.\n",
    "\n",
    "Play a game of 1000 flips of three coins with all fair dice.\n",
    "\n",
    "Play a game of 1000 flips with two unfair dice and one fair die.\n",
    "\n",
    "For each game, use an Analyzer object to determine the relative frequency of jackpots – getting either all Hs or all Ts.\n",
    "\n",
    "Compute relative frequency as the number of jackpots over the total number of rolls.\n",
    "\n",
    "Show your results, comparing the two relative frequencies, in a simple bar chart."
   ]
  },
  {
   "cell_type": "markdown",
   "id": "dcdefe3f",
   "metadata": {},
   "source": [
    "Run the below command \"import MonteCarloModules\" if modules need to be imported. This is not necessary here as the modules are defined above."
   ]
  },
  {
   "cell_type": "code",
   "execution_count": 4,
   "id": "815eae36-4357-442a-894e-d056ebb8f998",
   "metadata": {},
   "outputs": [],
   "source": [
    "# import MonteCarloModules "
   ]
  },
  {
   "cell_type": "code",
   "execution_count": 5,
   "id": "743ddaea",
   "metadata": {},
   "outputs": [],
   "source": [
    "#Create coins\n",
    "fair_coin = Die([\"H\", \"T\"])\n",
    "unfair_coin = Die([\"H\", \"T\"]) #Heads bias 5 to 1\n",
    "unfair_coin.change_weight(\"H\", 5)"
   ]
  },
  {
   "cell_type": "code",
   "execution_count": 6,
   "id": "7541c1e2",
   "metadata": {},
   "outputs": [
    {
     "data": {
      "text/plain": [
       "237"
      ]
     },
     "execution_count": 6,
     "metadata": {},
     "output_type": "execute_result"
    }
   ],
   "source": [
    "# calculate fair coin jackpot\n",
    "fair_coin_game = Game([fair_coin, fair_coin, fair_coin])\n",
    "fair_coin_game.play(1000)\n",
    "fair_analysis = analyzer(fair_coin_game)\n",
    "fair_jackpot = fair_analysis.jackpot()\n",
    "fair_jackpot"
   ]
  },
  {
   "cell_type": "code",
   "execution_count": 7,
   "id": "419b6637",
   "metadata": {},
   "outputs": [
    {
     "data": {
      "text/plain": [
       "0.237"
      ]
     },
     "execution_count": 7,
     "metadata": {},
     "output_type": "execute_result"
    }
   ],
   "source": [
    "#calculate fair coin jackpot frequency\n",
    "fair_jackpot_frequency = fair_jackpot/1000\n",
    "fair_jackpot_frequency"
   ]
  },
  {
   "cell_type": "code",
   "execution_count": 8,
   "id": "95796fda",
   "metadata": {},
   "outputs": [
    {
     "data": {
      "text/plain": [
       "378"
      ]
     },
     "execution_count": 8,
     "metadata": {},
     "output_type": "execute_result"
    }
   ],
   "source": [
    "#calculate unfair coin jackpot\n",
    "unfair_coin_game = Game([fair_coin, unfair_coin, unfair_coin])\n",
    "unfair_coin_game.play(1000)\n",
    "unfair_analysis = analyzer(unfair_coin_game)\n",
    "unfair_jackpot = unfair_analysis.jackpot()\n",
    "unfair_jackpot"
   ]
  },
  {
   "cell_type": "code",
   "execution_count": 9,
   "id": "adb23112",
   "metadata": {},
   "outputs": [
    {
     "data": {
      "text/plain": [
       "0.378"
      ]
     },
     "execution_count": 9,
     "metadata": {},
     "output_type": "execute_result"
    }
   ],
   "source": [
    "# calculate unfair jackpot frequency\n",
    "unfair_jackpot_frequency = unfair_jackpot/1000 \n",
    "unfair_jackpot_frequency"
   ]
  },
  {
   "cell_type": "code",
   "execution_count": 10,
   "id": "3960a018",
   "metadata": {},
   "outputs": [
    {
     "data": {
      "text/plain": [
       "<BarContainer object of 2 artists>"
      ]
     },
     "execution_count": 10,
     "metadata": {},
     "output_type": "execute_result"
    },
    {
     "data": {
      "image/png": "[encoded data removed]",
      "text/plain": [
       "<Figure size 432x288 with 1 Axes>"
      ]
     },
     "metadata": {
      "needs_background": "light"
     },
     "output_type": "display_data"
    }
   ],
   "source": [
    "# bar chart to compare\n",
    "X_axis = [\"fair coin frequency\", \"unfair coin frequency\"]\n",
    "y_axis = [fair_jackpot_frequency, unfair_jackpot_frequency]\n",
    "plt.bar(X_axis, y_axis)"
   ]
  },
  {
   "cell_type": "markdown",
   "id": "92793a09-0024-465d-b272-2ef8b9a6c21c",
   "metadata": {},
   "source": [
    "## Scenario 2"
   ]
  },
  {
   "cell_type": "markdown",
   "id": "f7d06ca0",
   "metadata": {},
   "source": [
    "Create a fair die and two unfair dice, all of six sides with the faces 1 through 6. \n",
    "\n",
    "One unfair die (Type 1) will weight 6 five times more than the others (i.e. it has weight of 5 and the others a weight of 1 each). \n",
    "\n",
    "The other unfair die (Type 2) will  weight 1 five times more than the others.\n",
    "\n",
    "\n",
    "Play a game of 10000 rolls with 5 fair dice.\n",
    "\n",
    "Play a game of 10000 rolls with 2 unfair dice of type 1, 1 unfair die of type 2, and the rest fair dice.\n",
    "\n",
    "For each game, use an Analyzer object to determine the relative frequency of jackpots and show your results, comparing the two relative frequencies, in a simple bar chart.\n",
    "\n",
    "Also compute 10 most frequent combinations of faces for each game. Plot each of these as bar charts."
   ]
  },
  {
   "cell_type": "code",
   "execution_count": 11,
   "id": "7218e98e-6ec0-4766-8793-5b386ce6ee24",
   "metadata": {},
   "outputs": [],
   "source": [
    "# fair and unfair die setup\n",
    "fair_die = Die([\"1\",\"2\",\"3\",\"4\",\"5\",\"6\"])\n",
    "\n",
    "unfair_die_6 = Die([\"1\",\"2\",\"3\",\"4\",\"5\",\"6\"])\n",
    "unfair_die_6.change_weight(\"6\", 5)\n",
    "\n",
    "unfair_die_1 = Die([\"1\",\"2\",\"3\",\"4\",\"5\",\"6\"])\n",
    "unfair_die_1.change_weight(\"1\",5)"
   ]
  },
  {
   "cell_type": "code",
   "execution_count": 12,
   "id": "bff4cc58",
   "metadata": {},
   "outputs": [
    {
     "data": {
      "text/plain": [
       "10"
      ]
     },
     "execution_count": 12,
     "metadata": {},
     "output_type": "execute_result"
    }
   ],
   "source": [
    "# fair die game calculations, analysis\n",
    "fair_die_game = Game([fair_die, fair_die, fair_die, fair_die, fair_die])\n",
    "fair_die_game.play(10000)\n",
    "analysis_fair_die = analyzer(fair_die_game)\n",
    "fair_die_jackpot = analysis_fair_die.jackpot()\n",
    "fair_die_jackpot"
   ]
  },
  {
   "cell_type": "code",
   "execution_count": 13,
   "id": "f5359ead",
   "metadata": {},
   "outputs": [
    {
     "data": {
      "text/plain": [
       "9"
      ]
     },
     "execution_count": 13,
     "metadata": {},
     "output_type": "execute_result"
    }
   ],
   "source": [
    "# unfair die game calculations, analysis\n",
    "unfair_die_game = Game([unfair_die_6, unfair_die_6, unfair_die_1, fair_die, fair_die])\n",
    "unfair_die_game.play(10000)\n",
    "analysis_unfair_die = analyzer(unfair_die_game)\n",
    "unfair_die_jackpot = analysis_unfair_die.jackpot()\n",
    "unfair_die_jackpot "
   ]
  },
  {
   "cell_type": "code",
   "execution_count": 14,
   "id": "7a4df0d4",
   "metadata": {},
   "outputs": [
    {
     "data": {
      "text/plain": [
       "<BarContainer object of 2 artists>"
      ]
     },
     "execution_count": 14,
     "metadata": {},
     "output_type": "execute_result"
    },
    {
     "data": {
      "image/png": "[encoded data removed]",
      "text/plain": [
       "<Figure size 432x288 with 1 Axes>"
      ]
     },
     "metadata": {
      "needs_background": "light"
     },
     "output_type": "display_data"
    }
   ],
   "source": [
    "# jackpot graph\n",
    "x_axis_die = [\"Fair Die Jackpot Frequency\", \"Unfair Die Jackpot Frequency\"]\n",
    "y_axis_die = [fair_die_jackpot, unfair_die_jackpot]\n",
    "plt.bar(x_axis_die, y_axis_die)"
   ]
  },
  {
   "cell_type": "code",
   "execution_count": 15,
   "id": "706a33e2",
   "metadata": {},
   "outputs": [
    {
     "data": {
      "text/html": [
       "<div>\n",
       "<style scoped>\n",
       "    .dataframe tbody tr th:only-of-type {\n",
       "        vertical-align: middle;\n",
       "    }\n",
       "\n",
       "    .dataframe tbody tr th {\n",
       "        vertical-align: top;\n",
       "    }\n",
       "\n",
       "    .dataframe thead th {\n",
       "        text-align: right;\n",
       "    }\n",
       "</style>\n",
       "<table border=\"1\" class=\"dataframe\">\n",
       "  <thead>\n",
       "    <tr style=\"text-align: right;\">\n",
       "      <th></th>\n",
       "      <th>count</th>\n",
       "    </tr>\n",
       "    <tr>\n",
       "      <th>0</th>\n",
       "      <th></th>\n",
       "    </tr>\n",
       "  </thead>\n",
       "  <tbody>\n",
       "    <tr>\n",
       "      <th>(1, 1, 3, 1, 5)</th>\n",
       "      <td>8</td>\n",
       "    </tr>\n",
       "    <tr>\n",
       "      <th>(1, 2, 5, 3, 5)</th>\n",
       "      <td>7</td>\n",
       "    </tr>\n",
       "    <tr>\n",
       "      <th>(2, 3, 4, 6, 2)</th>\n",
       "      <td>7</td>\n",
       "    </tr>\n",
       "    <tr>\n",
       "      <th>(3, 1, 1, 3, 3)</th>\n",
       "      <td>7</td>\n",
       "    </tr>\n",
       "    <tr>\n",
       "      <th>(5, 2, 3, 6, 4)</th>\n",
       "      <td>6</td>\n",
       "    </tr>\n",
       "    <tr>\n",
       "      <th>(5, 3, 3, 2, 1)</th>\n",
       "      <td>6</td>\n",
       "    </tr>\n",
       "    <tr>\n",
       "      <th>(3, 5, 4, 1, 3)</th>\n",
       "      <td>6</td>\n",
       "    </tr>\n",
       "    <tr>\n",
       "      <th>(1, 1, 1, 6, 5)</th>\n",
       "      <td>6</td>\n",
       "    </tr>\n",
       "    <tr>\n",
       "      <th>(6, 6, 2, 6, 2)</th>\n",
       "      <td>6</td>\n",
       "    </tr>\n",
       "    <tr>\n",
       "      <th>(5, 6, 1, 4, 2)</th>\n",
       "      <td>6</td>\n",
       "    </tr>\n",
       "  </tbody>\n",
       "</table>\n",
       "</div>"
      ],
      "text/plain": [
       "                 count\n",
       "0                     \n",
       "(1, 1, 3, 1, 5)      8\n",
       "(1, 2, 5, 3, 5)      7\n",
       "(2, 3, 4, 6, 2)      7\n",
       "(3, 1, 1, 3, 3)      7\n",
       "(5, 2, 3, 6, 4)      6\n",
       "(5, 3, 3, 2, 1)      6\n",
       "(3, 5, 4, 1, 3)      6\n",
       "(1, 1, 1, 6, 5)      6\n",
       "(6, 6, 2, 6, 2)      6\n",
       "(5, 6, 1, 4, 2)      6"
      ]
     },
     "execution_count": 15,
     "metadata": {},
     "output_type": "execute_result"
    }
   ],
   "source": [
    "# Fair Frequency Data\n",
    "fair_freq = analysis_fair_die.combo().head(10)\n",
    "fair_freq"
   ]
  },
  {
   "cell_type": "code",
   "execution_count": 16,
   "id": "f0eac8e3",
   "metadata": {},
   "outputs": [
    {
     "data": {
      "text/plain": [
       "<AxesSubplot:title={'center':'fair die game combos'}, xlabel='combos'>"
      ]
     },
     "execution_count": 16,
     "metadata": {},
     "output_type": "execute_result"
    },
    {
     "data": {
      "image/png": "[encoded data removed]",
      "text/plain": [
       "<Figure size 432x288 with 1 Axes>"
      ]
     },
     "metadata": {
      "needs_background": "light"
     },
     "output_type": "display_data"
    }
   ],
   "source": [
    "# Fair Frequency Graph\n",
    "fair_freq.plot.bar(xlabel = \"combos\", title = \"fair die game combos\")"
   ]
  },
  {
   "cell_type": "code",
   "execution_count": 17,
   "id": "fbda9abb",
   "metadata": {},
   "outputs": [
    {
     "data": {
      "text/html": [
       "<div>\n",
       "<style scoped>\n",
       "    .dataframe tbody tr th:only-of-type {\n",
       "        vertical-align: middle;\n",
       "    }\n",
       "\n",
       "    .dataframe tbody tr th {\n",
       "        vertical-align: top;\n",
       "    }\n",
       "\n",
       "    .dataframe thead th {\n",
       "        text-align: right;\n",
       "    }\n",
       "</style>\n",
       "<table border=\"1\" class=\"dataframe\">\n",
       "  <thead>\n",
       "    <tr style=\"text-align: right;\">\n",
       "      <th></th>\n",
       "      <th>count</th>\n",
       "    </tr>\n",
       "    <tr>\n",
       "      <th>0</th>\n",
       "      <th></th>\n",
       "    </tr>\n",
       "  </thead>\n",
       "  <tbody>\n",
       "    <tr>\n",
       "      <th>(1, 1, 3, 1, 5)</th>\n",
       "      <td>8</td>\n",
       "    </tr>\n",
       "    <tr>\n",
       "      <th>(1, 2, 5, 3, 5)</th>\n",
       "      <td>7</td>\n",
       "    </tr>\n",
       "    <tr>\n",
       "      <th>(2, 3, 4, 6, 2)</th>\n",
       "      <td>7</td>\n",
       "    </tr>\n",
       "    <tr>\n",
       "      <th>(3, 1, 1, 3, 3)</th>\n",
       "      <td>7</td>\n",
       "    </tr>\n",
       "    <tr>\n",
       "      <th>(5, 2, 3, 6, 4)</th>\n",
       "      <td>6</td>\n",
       "    </tr>\n",
       "    <tr>\n",
       "      <th>(5, 3, 3, 2, 1)</th>\n",
       "      <td>6</td>\n",
       "    </tr>\n",
       "    <tr>\n",
       "      <th>(3, 5, 4, 1, 3)</th>\n",
       "      <td>6</td>\n",
       "    </tr>\n",
       "    <tr>\n",
       "      <th>(1, 1, 1, 6, 5)</th>\n",
       "      <td>6</td>\n",
       "    </tr>\n",
       "    <tr>\n",
       "      <th>(6, 6, 2, 6, 2)</th>\n",
       "      <td>6</td>\n",
       "    </tr>\n",
       "    <tr>\n",
       "      <th>(5, 6, 1, 4, 2)</th>\n",
       "      <td>6</td>\n",
       "    </tr>\n",
       "  </tbody>\n",
       "</table>\n",
       "</div>"
      ],
      "text/plain": [
       "                 count\n",
       "0                     \n",
       "(1, 1, 3, 1, 5)      8\n",
       "(1, 2, 5, 3, 5)      7\n",
       "(2, 3, 4, 6, 2)      7\n",
       "(3, 1, 1, 3, 3)      7\n",
       "(5, 2, 3, 6, 4)      6\n",
       "(5, 3, 3, 2, 1)      6\n",
       "(3, 5, 4, 1, 3)      6\n",
       "(1, 1, 1, 6, 5)      6\n",
       "(6, 6, 2, 6, 2)      6\n",
       "(5, 6, 1, 4, 2)      6"
      ]
     },
     "execution_count": 17,
     "metadata": {},
     "output_type": "execute_result"
    }
   ],
   "source": [
    "# Unfair Frequency Data\n",
    "unfair_freq = analysis_fair_die.combo().head(10)\n",
    "unfair_freq"
   ]
  },
  {
   "cell_type": "code",
   "execution_count": 18,
   "id": "79fdc5d2",
   "metadata": {},
   "outputs": [
    {
     "data": {
      "text/plain": [
       "<AxesSubplot:title={'center':'unfair die game combos'}, xlabel='combos'>"
      ]
     },
     "execution_count": 18,
     "metadata": {},
     "output_type": "execute_result"
    },
    {
     "data": {
      "image/png": "[encoded data removed]",
      "text/plain": [
       "<Figure size 432x288 with 1 Axes>"
      ]
     },
     "metadata": {
      "needs_background": "light"
     },
     "output_type": "display_data"
    }
   ],
   "source": [
    "# Unfair Frequency Graph\n",
    "unfair_freq.plot.bar(xlabel = \"combos\", title = \"unfair die game combos\")"
   ]
  },
  {
   "cell_type": "markdown",
   "id": "1b47f5b6-188d-4d24-9c2f-687b430e6624",
   "metadata": {},
   "source": [
    "## Scenario 3"
   ]
  },
  {
   "cell_type": "markdown",
   "id": "80997434",
   "metadata": {},
   "source": [
    "Create a \"die\" of letters from a to z with weights based on their frequency of usage. \n",
    "\n",
    "See Appendix for these weights.\n",
    "\n",
    "Play a game involving 5 of these dice with 1000 rolls.\n",
    "\n",
    "How many combos can you that look like actual English words?\n",
    "\n",
    "NOTE: \"combo\" here should really be permutation, which make sense for words. \n",
    "\n",
    "So just compute these from the result data you get from the Game object.\n",
    "\n",
    "Based on your eye count, what is the relative frequency of these words versus the rest?\n",
    "\n",
    "NOTE: You can do a few random sample to compute your estimate.\n",
    "\n",
    "The weights for the letters are in the Appendix to this document."
   ]
  },
  {
   "cell_type": "code",
   "execution_count": 19,
   "id": "ad6d2878-f832-4065-98a3-1ea78ff0a6d3",
   "metadata": {},
   "outputs": [
    {
     "data": {
      "text/html": [
       "<div>\n",
       "<style scoped>\n",
       "    .dataframe tbody tr th:only-of-type {\n",
       "        vertical-align: middle;\n",
       "    }\n",
       "\n",
       "    .dataframe tbody tr th {\n",
       "        vertical-align: top;\n",
       "    }\n",
       "\n",
       "    .dataframe thead th {\n",
       "        text-align: right;\n",
       "    }\n",
       "</style>\n",
       "<table border=\"1\" class=\"dataframe\">\n",
       "  <thead>\n",
       "    <tr style=\"text-align: right;\">\n",
       "      <th></th>\n",
       "      <th>Letter</th>\n",
       "      <th>Frequency</th>\n",
       "    </tr>\n",
       "  </thead>\n",
       "  <tbody>\n",
       "    <tr>\n",
       "      <th>0</th>\n",
       "      <td>A</td>\n",
       "      <td>8.4966</td>\n",
       "    </tr>\n",
       "    <tr>\n",
       "      <th>1</th>\n",
       "      <td>B</td>\n",
       "      <td>2.0720</td>\n",
       "    </tr>\n",
       "    <tr>\n",
       "      <th>2</th>\n",
       "      <td>C</td>\n",
       "      <td>4.5388</td>\n",
       "    </tr>\n",
       "    <tr>\n",
       "      <th>3</th>\n",
       "      <td>D</td>\n",
       "      <td>3.3844</td>\n",
       "    </tr>\n",
       "    <tr>\n",
       "      <th>4</th>\n",
       "      <td>E</td>\n",
       "      <td>11.1607</td>\n",
       "    </tr>\n",
       "    <tr>\n",
       "      <th>5</th>\n",
       "      <td>F</td>\n",
       "      <td>1.8121</td>\n",
       "    </tr>\n",
       "    <tr>\n",
       "      <th>6</th>\n",
       "      <td>G</td>\n",
       "      <td>2.4705</td>\n",
       "    </tr>\n",
       "    <tr>\n",
       "      <th>7</th>\n",
       "      <td>H</td>\n",
       "      <td>3.0034</td>\n",
       "    </tr>\n",
       "    <tr>\n",
       "      <th>8</th>\n",
       "      <td>I</td>\n",
       "      <td>7.5448</td>\n",
       "    </tr>\n",
       "    <tr>\n",
       "      <th>9</th>\n",
       "      <td>J</td>\n",
       "      <td>0.1965</td>\n",
       "    </tr>\n",
       "    <tr>\n",
       "      <th>10</th>\n",
       "      <td>K</td>\n",
       "      <td>1.1016</td>\n",
       "    </tr>\n",
       "    <tr>\n",
       "      <th>11</th>\n",
       "      <td>L</td>\n",
       "      <td>5.4893</td>\n",
       "    </tr>\n",
       "    <tr>\n",
       "      <th>12</th>\n",
       "      <td>M</td>\n",
       "      <td>3.0129</td>\n",
       "    </tr>\n",
       "    <tr>\n",
       "      <th>13</th>\n",
       "      <td>N</td>\n",
       "      <td>6.6544</td>\n",
       "    </tr>\n",
       "    <tr>\n",
       "      <th>14</th>\n",
       "      <td>O</td>\n",
       "      <td>7.1635</td>\n",
       "    </tr>\n",
       "    <tr>\n",
       "      <th>15</th>\n",
       "      <td>P</td>\n",
       "      <td>3.1671</td>\n",
       "    </tr>\n",
       "    <tr>\n",
       "      <th>16</th>\n",
       "      <td>Q</td>\n",
       "      <td>0.1962</td>\n",
       "    </tr>\n",
       "    <tr>\n",
       "      <th>17</th>\n",
       "      <td>R</td>\n",
       "      <td>7.5809</td>\n",
       "    </tr>\n",
       "    <tr>\n",
       "      <th>18</th>\n",
       "      <td>S</td>\n",
       "      <td>5.7351</td>\n",
       "    </tr>\n",
       "    <tr>\n",
       "      <th>19</th>\n",
       "      <td>T</td>\n",
       "      <td>6.9509</td>\n",
       "    </tr>\n",
       "    <tr>\n",
       "      <th>20</th>\n",
       "      <td>U</td>\n",
       "      <td>3.6308</td>\n",
       "    </tr>\n",
       "    <tr>\n",
       "      <th>21</th>\n",
       "      <td>V</td>\n",
       "      <td>1.0074</td>\n",
       "    </tr>\n",
       "    <tr>\n",
       "      <th>22</th>\n",
       "      <td>W</td>\n",
       "      <td>1.2899</td>\n",
       "    </tr>\n",
       "    <tr>\n",
       "      <th>23</th>\n",
       "      <td>X</td>\n",
       "      <td>0.2902</td>\n",
       "    </tr>\n",
       "    <tr>\n",
       "      <th>24</th>\n",
       "      <td>Y</td>\n",
       "      <td>1.7779</td>\n",
       "    </tr>\n",
       "    <tr>\n",
       "      <th>25</th>\n",
       "      <td>Z</td>\n",
       "      <td>0.2722</td>\n",
       "    </tr>\n",
       "  </tbody>\n",
       "</table>\n",
       "</div>"
      ],
      "text/plain": [
       "   Letter   Frequency\n",
       "0       A      8.4966\n",
       "1       B      2.0720\n",
       "2       C      4.5388\n",
       "3       D      3.3844\n",
       "4       E     11.1607\n",
       "5       F      1.8121\n",
       "6       G      2.4705\n",
       "7       H      3.0034\n",
       "8       I      7.5448\n",
       "9       J      0.1965\n",
       "10      K      1.1016\n",
       "11      L      5.4893\n",
       "12      M      3.0129\n",
       "13      N      6.6544\n",
       "14      O      7.1635\n",
       "15      P      3.1671\n",
       "16      Q      0.1962\n",
       "17      R      7.5809\n",
       "18      S      5.7351\n",
       "19      T      6.9509\n",
       "20      U      3.6308\n",
       "21      V      1.0074\n",
       "22      W      1.2899\n",
       "23      X      0.2902\n",
       "24      Y      1.7779\n",
       "25      Z      0.2722"
      ]
     },
     "execution_count": 19,
     "metadata": {},
     "output_type": "execute_result"
    }
   ],
   "source": [
    "# Load in data\n",
    "letters = pd.read_csv(\"letter-freqs.csv\")\n",
    "letters"
   ]
  },
  {
   "cell_type": "code",
   "execution_count": 20,
   "id": "289407c1",
   "metadata": {},
   "outputs": [],
   "source": [
    "# Isolate letters and frequencies for calculations\n",
    "letters_list = list(letters[\"Letter\"])\n",
    "frequency_list = [letters.iloc[x][1] for x in range(len(letters_list))]"
   ]
  },
  {
   "cell_type": "code",
   "execution_count": 21,
   "id": "97896236",
   "metadata": {},
   "outputs": [],
   "source": [
    "# create die and change weights\n",
    "letters_die = Die(letters_list)\n",
    "\n",
    "for i in range(26):\n",
    "    temp_letter = letters_list[i]\n",
    "    temp_freq = frequency_list[i]\n",
    "    letters_die.change_weight(temp_letter, temp_freq)"
   ]
  },
  {
   "cell_type": "code",
   "execution_count": 22,
   "id": "c381e0a9",
   "metadata": {},
   "outputs": [],
   "source": [
    "# run simulation/game\n",
    "letter_game = Game([letters_die, letters_die, letters_die, letters_die, letters_die])\n",
    "letter_game.play(1000)"
   ]
  },
  {
   "cell_type": "markdown",
   "id": "01a4ee86",
   "metadata": {},
   "source": [
    "My combo method actually calculates permutations. \n",
    "\n",
    " is because I interpreted the instructions for the combo function to consider \n",
    "\n",
    "rolling a 1 then a 2 to be different than rolling a 2 then a 1, for example. \n",
    "\n",
    "Therefore, the combo function works in this case.  "
   ]
  },
  {
   "cell_type": "code",
   "execution_count": 23,
   "id": "cd1609c0",
   "metadata": {},
   "outputs": [
    {
     "data": {
      "text/html": [
       "<div>\n",
       "<style scoped>\n",
       "    .dataframe tbody tr th:only-of-type {\n",
       "        vertical-align: middle;\n",
       "    }\n",
       "\n",
       "    .dataframe tbody tr th {\n",
       "        vertical-align: top;\n",
       "    }\n",
       "\n",
       "    .dataframe thead th {\n",
       "        text-align: right;\n",
       "    }\n",
       "</style>\n",
       "<table border=\"1\" class=\"dataframe\">\n",
       "  <thead>\n",
       "    <tr style=\"text-align: right;\">\n",
       "      <th></th>\n",
       "      <th>count</th>\n",
       "    </tr>\n",
       "    <tr>\n",
       "      <th>0</th>\n",
       "      <th></th>\n",
       "    </tr>\n",
       "  </thead>\n",
       "  <tbody>\n",
       "    <tr>\n",
       "      <th>(S, T, E, E, E)</th>\n",
       "      <td>2</td>\n",
       "    </tr>\n",
       "    <tr>\n",
       "      <th>(A, A, A, E, E)</th>\n",
       "      <td>1</td>\n",
       "    </tr>\n",
       "    <tr>\n",
       "      <th>(P, A, P, V, D)</th>\n",
       "      <td>1</td>\n",
       "    </tr>\n",
       "    <tr>\n",
       "      <th>(O, T, R, B, N)</th>\n",
       "      <td>1</td>\n",
       "    </tr>\n",
       "    <tr>\n",
       "      <th>(O, U, E, I, P)</th>\n",
       "      <td>1</td>\n",
       "    </tr>\n",
       "    <tr>\n",
       "      <th>(O, U, O, I, O)</th>\n",
       "      <td>1</td>\n",
       "    </tr>\n",
       "    <tr>\n",
       "      <th>(O, U, R, L, E)</th>\n",
       "      <td>1</td>\n",
       "    </tr>\n",
       "    <tr>\n",
       "      <th>(O, V, M, I, R)</th>\n",
       "      <td>1</td>\n",
       "    </tr>\n",
       "    <tr>\n",
       "      <th>(O, W, I, D, I)</th>\n",
       "      <td>1</td>\n",
       "    </tr>\n",
       "    <tr>\n",
       "      <th>(O, W, I, D, L)</th>\n",
       "      <td>1</td>\n",
       "    </tr>\n",
       "    <tr>\n",
       "      <th>(O, W, Z, S, P)</th>\n",
       "      <td>1</td>\n",
       "    </tr>\n",
       "    <tr>\n",
       "      <th>(O, Y, L, M, B)</th>\n",
       "      <td>1</td>\n",
       "    </tr>\n",
       "    <tr>\n",
       "      <th>(O, Y, L, S, R)</th>\n",
       "      <td>1</td>\n",
       "    </tr>\n",
       "    <tr>\n",
       "      <th>(P, A, E, N, N)</th>\n",
       "      <td>1</td>\n",
       "    </tr>\n",
       "    <tr>\n",
       "      <th>(P, A, O, S, D)</th>\n",
       "      <td>1</td>\n",
       "    </tr>\n",
       "    <tr>\n",
       "      <th>(P, B, A, R, M)</th>\n",
       "      <td>1</td>\n",
       "    </tr>\n",
       "    <tr>\n",
       "      <th>(P, L, O, V, A)</th>\n",
       "      <td>1</td>\n",
       "    </tr>\n",
       "    <tr>\n",
       "      <th>(P, C, G, N, S)</th>\n",
       "      <td>1</td>\n",
       "    </tr>\n",
       "    <tr>\n",
       "      <th>(P, D, A, P, O)</th>\n",
       "      <td>1</td>\n",
       "    </tr>\n",
       "    <tr>\n",
       "      <th>(P, E, S, R, P)</th>\n",
       "      <td>1</td>\n",
       "    </tr>\n",
       "  </tbody>\n",
       "</table>\n",
       "</div>"
      ],
      "text/plain": [
       "                 count\n",
       "0                     \n",
       "(S, T, E, E, E)      2\n",
       "(A, A, A, E, E)      1\n",
       "(P, A, P, V, D)      1\n",
       "(O, T, R, B, N)      1\n",
       "(O, U, E, I, P)      1\n",
       "(O, U, O, I, O)      1\n",
       "(O, U, R, L, E)      1\n",
       "(O, V, M, I, R)      1\n",
       "(O, W, I, D, I)      1\n",
       "(O, W, I, D, L)      1\n",
       "(O, W, Z, S, P)      1\n",
       "(O, Y, L, M, B)      1\n",
       "(O, Y, L, S, R)      1\n",
       "(P, A, E, N, N)      1\n",
       "(P, A, O, S, D)      1\n",
       "(P, B, A, R, M)      1\n",
       "(P, L, O, V, A)      1\n",
       "(P, C, G, N, S)      1\n",
       "(P, D, A, P, O)      1\n",
       "(P, E, S, R, P)      1"
      ]
     },
     "execution_count": 23,
     "metadata": {},
     "output_type": "execute_result"
    }
   ],
   "source": [
    "# calculate permutations\n",
    "analyze_letters = analyzer(letter_game)\n",
    "analyze_letters.combo().head(20)"
   ]
  },
  {
   "cell_type": "markdown",
   "id": "4c72942c",
   "metadata": {},
   "source": [
    "Run the algo 10 times and count the number of words that appear. Each run creates 20 combinations. \n",
    "\n",
    "8, 6, 11, 10, 7, 5, 9, 7, 8, 6"
   ]
  },
  {
   "cell_type": "code",
   "execution_count": 24,
   "id": "7a5b8883",
   "metadata": {},
   "outputs": [
    {
     "data": {
      "text/plain": [
       "7.7"
      ]
     },
     "execution_count": 24,
     "metadata": {},
     "output_type": "execute_result"
    }
   ],
   "source": [
    "# Calculate average count \"almost\" words\n",
    "import statistics\n",
    "avg_words = statistics.mean([8,6,11,10,7,5,9,7,8,6])\n",
    "avg_words"
   ]
  },
  {
   "cell_type": "code",
   "execution_count": 25,
   "id": "29e63125",
   "metadata": {},
   "outputs": [
    {
     "data": {
      "text/plain": [
       "0.385"
      ]
     },
     "execution_count": 25,
     "metadata": {},
     "output_type": "execute_result"
    }
   ],
   "source": [
    "# relative frequency approximation\n",
    "avg_words/20"
   ]
  },
  {
   "cell_type": "markdown",
   "id": "6ced706c-19e7-4e79-b171-bfb076f822b4",
   "metadata": {},
   "source": [
    "# Directory Listing\n",
    "\n",
    "A code block that executes the following bash command: \n",
    "\n",
    "```bash\n",
    "!ls -lRF -o\n",
    "```"
   ]
  },
  {
   "cell_type": "code",
   "execution_count": 26,
   "id": "5dbd35c2-e479-4179-b792-997d4293ba96",
   "metadata": {},
   "outputs": [
    {
     "name": "stdout",
     "output_type": "stream",
     "text": [
      "total 192\r\n",
      "-rw-r--r--@ 1 davimeran  87911 Jul 15 23:57 FinalProjectSubmission_DaviMeran.ipynb\r\n",
      "drwxr-xr-x  7 davimeran    224 Jul 15 23:35 \u001b[34mMonteCarlo\u001b[m\u001b[m/\r\n",
      "drwxr-xr-x  6 davimeran    192 Jul 15 23:37 \u001b[34mMonteCarlo.egg-info\u001b[m\u001b[m/\r\n",
      "-rw-r--r--@ 1 davimeran    278 Jul 15 19:47 letter-freqs.csv\r\n",
      "-rw-r--r--@ 1 davimeran    324 Jul 15 23:05 setup.py\r\n",
      "\r\n",
      "./MonteCarlo:\r\n",
      "total 32\r\n",
      "-rw-r--r--@ 1 davimeran  6480 Jul 15 22:47 MonteCarloModules.py\r\n",
      "-rw-r--r--@ 1 davimeran  3977 Jul 15 23:18 UnitTest.py\r\n",
      "-rw-r--r--@ 1 davimeran   862 Jul 14 21:21 UnitTestTextOutput\r\n",
      "-rw-r--r--  1 davimeran     0 Jul 15 23:17 __init__.py\r\n",
      "\r\n",
      "./MonteCarlo.egg-info:\r\n",
      "total 32\r\n",
      "-rw-r--r--  1 davimeran  277 Jul 15 23:37 PKG-INFO\r\n",
      "-rw-r--r--  1 davimeran  144 Jul 15 23:37 SOURCES.txt\r\n",
      "-rw-r--r--  1 davimeran    1 Jul 15 23:37 dependency_links.txt\r\n",
      "-rw-r--r--  1 davimeran   18 Jul 15 23:37 top_level.txt\r\n"
     ]
    }
   ],
   "source": [
    "!ls -lRF -o"
   ]
  },
  {
   "cell_type": "markdown",
   "id": "c4df835c-3cd7-4c74-a4de-51638607680b",
   "metadata": {
    "tags": []
   },
   "source": [
    "# Installation Output Listing\n",
    "    \n",
    "A code block that executes the code to install your your package and outputs a successful installation."
   ]
  },
  {
   "cell_type": "code",
   "execution_count": 27,
   "id": "3609769a-c338-4746-8607-d124caf76ed8",
   "metadata": {},
   "outputs": [
    {
     "name": "stdout",
     "output_type": "stream",
     "text": [
      "Obtaining file:///Users/davimeran/Desktop/DS5100/final_project\n",
      "Installing collected packages: MonteCarlo\n",
      "  Attempting uninstall: MonteCarlo\n",
      "    Found existing installation: MonteCarlo 1.0\n",
      "    Uninstalling MonteCarlo-1.0:\n",
      "      Successfully uninstalled MonteCarlo-1.0\n",
      "  Running setup.py develop for MonteCarlo\n",
      "Successfully installed MonteCarlo-1.0\n",
      "Note: you may need to restart the kernel to use updated packages.\n"
     ]
    }
   ],
   "source": [
    "pip install -e ."
   ]
  }
 ],
 "metadata": {
  "kernelspec": {
   "display_name": "Python 3 (ipykernel)",
   "language": "python",
   "name": "python3"
  },
  "language_info": {
   "codemirror_mode": {
    "name": "ipython",
    "version": 3
   },
   "file_extension": ".py",
   "mimetype": "text/x-python",
   "name": "python",
   "nbconvert_exporter": "python",
   "pygments_lexer": "ipython3",
   "version": "3.8.8"
  },
  "vscode": {
   "interpreter": {
    "hash": "40d3a090f54c6569ab1632332b64b2c03c39dcf918b08424e98f38b5ae0af88f"
   }
  },
  "widgets": {
   "application/vnd.jupyter.widget-state+json": {
    "state": {},
    "version_major": 2,
    "version_minor": 0
   }
  }
 },
 "nbformat": 4,
 "nbformat_minor": 5
}
